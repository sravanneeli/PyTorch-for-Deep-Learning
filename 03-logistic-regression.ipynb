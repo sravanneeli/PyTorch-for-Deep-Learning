{
 "cells": [
  {
   "cell_type": "code",
   "execution_count": 1,
   "metadata": {},
   "outputs": [],
   "source": [
    "import torch\n",
    "import torchvision\n",
    "from torchvision.datasets import MNIST"
   ]
  },
  {
   "cell_type": "code",
   "execution_count": 2,
   "metadata": {},
   "outputs": [],
   "source": [
    "dataset = MNIST(root = 'data/', download=True)"
   ]
  },
  {
   "cell_type": "code",
   "execution_count": 3,
   "metadata": {},
   "outputs": [],
   "source": [
    "import matplotlib.pyplot as plt\n",
    "%matplotlib inline"
   ]
  },
  {
   "cell_type": "code",
   "execution_count": 4,
   "metadata": {},
   "outputs": [
    {
     "name": "stdout",
     "output_type": "stream",
     "text": [
      "5\n"
     ]
    },
    {
     "data": {
      "image/png": "[encoded data removed]",
      "text/plain": [
       "<Figure size 432x288 with 1 Axes>"
      ]
     },
     "metadata": {
      "needs_background": "light"
     },
     "output_type": "display_data"
    }
   ],
   "source": [
    "image, label = dataset[0]\n",
    "plt.imshow(image, cmap='gray')\n",
    "print(label)\n",
    "plt.show()"
   ]
  },
  {
   "cell_type": "code",
   "execution_count": 5,
   "metadata": {},
   "outputs": [],
   "source": [
    "import torchvision.transforms as transforms"
   ]
  },
  {
   "cell_type": "code",
   "execution_count": 6,
   "metadata": {},
   "outputs": [],
   "source": [
    "dataset = MNIST(root='data/',\n",
    "                train=True,\n",
    "                transform=transforms.ToTensor())"
   ]
  },
  {
   "cell_type": "code",
   "execution_count": 7,
   "metadata": {},
   "outputs": [
    {
     "name": "stdout",
     "output_type": "stream",
     "text": [
      "torch.Size([1, 28, 28]) 5\n"
     ]
    }
   ],
   "source": [
    "img_tensor, label = dataset[0]\n",
    "print(img_tensor.shape, label)"
   ]
  },
  {
   "cell_type": "code",
   "execution_count": 8,
   "metadata": {},
   "outputs": [
    {
     "name": "stdout",
     "output_type": "stream",
     "text": [
      "tensor([[[0.0039, 0.6039, 0.9922, 0.3529, 0.0000],\n",
      "         [0.0000, 0.5451, 0.9922, 0.7451, 0.0078],\n",
      "         [0.0000, 0.0431, 0.7451, 0.9922, 0.2745],\n",
      "         [0.0000, 0.0000, 0.1373, 0.9451, 0.8824],\n",
      "         [0.0000, 0.0000, 0.0000, 0.3176, 0.9412]]])\n",
      "tensor(1.) tensor(0.)\n"
     ]
    }
   ],
   "source": [
    "print(img_tensor[:, 10:15, 10:15])\n",
    "print(torch.max(img_tensor), torch.min(img_tensor))"
   ]
  },
  {
   "cell_type": "code",
   "execution_count": 9,
   "metadata": {},
   "outputs": [],
   "source": [
    "import numpy as np\n",
    "\n",
    "def split_indicies(n, val_pct):\n",
    "    n_val = int(val_pct*n)\n",
    "    idxs = np.random.permutation(n)\n",
    "    return idxs[n_val:], idxs[:n_val]"
   ]
  },
  {
   "cell_type": "code",
   "execution_count": 10,
   "metadata": {},
   "outputs": [],
   "source": [
    "train_indicies, val_indicies = split_indicies(len(dataset), val_pct=0.2)"
   ]
  },
  {
   "cell_type": "code",
   "execution_count": 11,
   "metadata": {},
   "outputs": [],
   "source": [
    "from torch.utils.data.sampler import SubsetRandomSampler\n",
    "from torch.utils.data.dataloader import DataLoader"
   ]
  },
  {
   "cell_type": "code",
   "execution_count": 12,
   "metadata": {},
   "outputs": [],
   "source": [
    "batch_size = 100\n",
    "\n",
    "train_sampler = SubsetRandomSampler(train_indicies)\n",
    "train_loader = DataLoader(dataset,\n",
    "                          batch_size,\n",
    "                          sampler=train_sampler)\n",
    "val_sampler = SubsetRandomSampler(val_indicies)\n",
    "val_loader = DataLoader(dataset, \n",
    "                        batch_size,\n",
    "                        sampler=val_sampler)"
   ]
  },
  {
   "cell_type": "code",
   "execution_count": 13,
   "metadata": {},
   "outputs": [],
   "source": [
    "import torch.nn as nn\n",
    "\n",
    "input_size = 28*28\n",
    "num_classes = 10\n",
    "\n",
    "model = nn.Linear(input_size, num_classes)"
   ]
  },
  {
   "cell_type": "code",
   "execution_count": 14,
   "metadata": {},
   "outputs": [
    {
     "name": "stdout",
     "output_type": "stream",
     "text": [
      "torch.Size([10, 784])\n"
     ]
    },
    {
     "data": {
      "text/plain": [
       "Parameter containing:\n",
       "tensor([[ 0.0244, -0.0151, -0.0169,  ...,  0.0228,  0.0053,  0.0314],\n",
       "        [ 0.0244, -0.0089,  0.0242,  ...,  0.0001, -0.0127,  0.0134],\n",
       "        [-0.0154,  0.0163, -0.0218,  ..., -0.0084, -0.0233,  0.0346],\n",
       "        ...,\n",
       "        [-0.0084, -0.0290,  0.0131,  ...,  0.0353,  0.0090,  0.0325],\n",
       "        [-0.0286,  0.0002, -0.0068,  ...,  0.0349, -0.0275, -0.0193],\n",
       "        [ 0.0345,  0.0191, -0.0054,  ...,  0.0081,  0.0139,  0.0044]],\n",
       "       requires_grad=True)"
      ]
     },
     "execution_count": 14,
     "metadata": {},
     "output_type": "execute_result"
    }
   ],
   "source": [
    "print(model.weight.shape)\n",
    "model.weight"
   ]
  },
  {
   "cell_type": "code",
   "execution_count": 15,
   "metadata": {},
   "outputs": [
    {
     "name": "stdout",
     "output_type": "stream",
     "text": [
      "torch.Size([10])\n"
     ]
    },
    {
     "data": {
      "text/plain": [
       "Parameter containing:\n",
       "tensor([ 0.0040,  0.0069, -0.0299,  0.0106, -0.0226, -0.0189, -0.0080,  0.0022,\n",
       "        -0.0107, -0.0047], requires_grad=True)"
      ]
     },
     "execution_count": 15,
     "metadata": {},
     "output_type": "execute_result"
    }
   ],
   "source": [
    "print(model.bias.shape)\n",
    "model.bias"
   ]
  },
  {
   "cell_type": "code",
   "execution_count": 16,
   "metadata": {},
   "outputs": [],
   "source": [
    "# Error\n",
    "# for images, labels in train_loader:\n",
    "#     print(labels)\n",
    "#     print(images)\n",
    "#     outputs = model(images)\n",
    "#     break"
   ]
  },
  {
   "cell_type": "code",
   "execution_count": 17,
   "metadata": {},
   "outputs": [],
   "source": [
    "class MnistModel(nn.Module):\n",
    "    def __init__(self):\n",
    "        super().__init__()\n",
    "        self.linear = nn.Linear(input_size, num_classes)\n",
    "    \n",
    "    def forward(self, xb):\n",
    "        xb = xb.reshape(-1, 784)\n",
    "        out = self.linear(xb)\n",
    "        return out\n",
    "\n",
    "model = MnistModel()"
   ]
  },
  {
   "cell_type": "code",
   "execution_count": 18,
   "metadata": {},
   "outputs": [
    {
     "name": "stdout",
     "output_type": "stream",
     "text": [
      "outputs.shape: torch.Size([100, 10])\n",
      "Sample outputs: tensor([[-0.2697,  0.3324, -0.3423, -0.4523, -0.0973,  0.1068, -0.1093,  0.1602,\n",
      "          0.4132, -0.3503],\n",
      "        [-0.2239,  0.0020,  0.0448, -0.0038, -0.0907, -0.0242, -0.0799,  0.1669,\n",
      "         -0.1343, -0.0625]])\n"
     ]
    }
   ],
   "source": [
    "for images, labels in val_loader:\n",
    "    outputs = model(images)\n",
    "    break\n",
    "\n",
    "print(f'outputs.shape: {outputs.shape}')\n",
    "print(f\"Sample outputs: {outputs[:2].data}\")"
   ]
  },
  {
   "cell_type": "code",
   "execution_count": 19,
   "metadata": {},
   "outputs": [],
   "source": [
    "import torch.nn.functional as F"
   ]
  },
  {
   "cell_type": "code",
   "execution_count": 20,
   "metadata": {},
   "outputs": [
    {
     "name": "stdout",
     "output_type": "stream",
     "text": [
      "Sample probabilities:\n",
      " tensor([[0.0778, 0.1421, 0.0724, 0.0648, 0.0925, 0.1134, 0.0914, 0.1196, 0.1541,\n",
      "         0.0718],\n",
      "        [0.0828, 0.1038, 0.1084, 0.1032, 0.0946, 0.1011, 0.0957, 0.1224, 0.0906,\n",
      "         0.0973]])\n",
      "Sum:  1.0\n"
     ]
    }
   ],
   "source": [
    "# Apply softmax for each output row\n",
    "probs = F.softmax(outputs, dim=1)\n",
    "\n",
    "# Look at sample probabilities\n",
    "print(\"Sample probabilities:\\n\", probs[:2].data)\n",
    "\n",
    "# Add up the probabilities of an output row\n",
    "print(\"Sum: \", torch.sum(probs[0]).item())"
   ]
  },
  {
   "cell_type": "code",
   "execution_count": 21,
   "metadata": {},
   "outputs": [
    {
     "name": "stdout",
     "output_type": "stream",
     "text": [
      "tensor([8, 7, 9, 7, 9, 8, 1, 2, 8, 9, 1, 3, 1, 1, 2, 7, 0, 7, 1, 5, 3, 5, 3, 3,\n",
      "        1, 7, 2, 1, 1, 7, 0, 1, 1, 6, 5, 1, 9, 5, 1, 9, 1, 6, 5, 4, 5, 2, 7, 1,\n",
      "        2, 1, 7, 1, 3, 0, 1, 1, 9, 1, 5, 1, 9, 5, 7, 2, 6, 8, 7, 3, 1, 1, 1, 7,\n",
      "        7, 1, 5, 1, 7, 1, 3, 1, 7, 9, 8, 2, 5, 8, 6, 2, 1, 7, 5, 6, 8, 3, 3, 7,\n",
      "        1, 8, 0, 3])\n",
      "tensor([0.1541, 0.1224, 0.1284, 0.1267, 0.1310, 0.1211, 0.1303, 0.1132, 0.1191,\n",
      "        0.1479, 0.1275, 0.1273, 0.1463, 0.1124, 0.1390, 0.1376, 0.1062, 0.1191,\n",
      "        0.1343, 0.1546, 0.1198, 0.1293, 0.1260, 0.1239, 0.1371, 0.1233, 0.1114,\n",
      "        0.1428, 0.1241, 0.1200, 0.1172, 0.1460, 0.1397, 0.1304, 0.1530, 0.1334,\n",
      "        0.1392, 0.1154, 0.1427, 0.1259, 0.1263, 0.1269, 0.1306, 0.1174, 0.1206,\n",
      "        0.1471, 0.1165, 0.1390, 0.1262, 0.1172, 0.1314, 0.1397, 0.1193, 0.1178,\n",
      "        0.1216, 0.1180, 0.1191, 0.1176, 0.1291, 0.1409, 0.1278, 0.1331, 0.1254,\n",
      "        0.1353, 0.1318, 0.1277, 0.1222, 0.1222, 0.1348, 0.1191, 0.1127, 0.1161,\n",
      "        0.1268, 0.1290, 0.1277, 0.1139, 0.1124, 0.1433, 0.1293, 0.1415, 0.1521,\n",
      "        0.1054, 0.1196, 0.1150, 0.1453, 0.1129, 0.1150, 0.1400, 0.1205, 0.1482,\n",
      "        0.1172, 0.1373, 0.1388, 0.1136, 0.1178, 0.1146, 0.1116, 0.1361, 0.1261,\n",
      "        0.1339], grad_fn=<MaxBackward0>)\n"
     ]
    }
   ],
   "source": [
    "max_probs, preds = torch.max(probs, dim=1)\n",
    "print(preds)\n",
    "print(max_probs)"
   ]
  },
  {
   "cell_type": "code",
   "execution_count": 22,
   "metadata": {},
   "outputs": [
    {
     "data": {
      "text/plain": [
       "tensor([2, 1, 0, 7, 3, 1, 8, 4, 7, 0, 6, 7, 7, 1, 4, 8, 1, 1, 0, 6, 9, 6, 3, 6,\n",
       "        2, 1, 4, 4, 9, 1, 5, 2, 9, 0, 0, 7, 9, 4, 4, 6, 2, 7, 3, 5, 6, 2, 1, 8,\n",
       "        6, 3, 7, 5, 4, 1, 9, 7, 6, 0, 0, 9, 9, 2, 7, 0, 3, 2, 9, 3, 7, 9, 7, 1,\n",
       "        1, 9, 0, 3, 1, 4, 7, 5, 5, 1, 5, 9, 2, 1, 5, 6, 9, 8, 6, 5, 2, 7, 7, 7,\n",
       "        4, 2, 2, 5])"
      ]
     },
     "execution_count": 22,
     "metadata": {},
     "output_type": "execute_result"
    }
   ],
   "source": [
    "labels"
   ]
  },
  {
   "cell_type": "code",
   "execution_count": 23,
   "metadata": {},
   "outputs": [
    {
     "data": {
      "text/plain": [
       "tensor(10)"
      ]
     },
     "execution_count": 23,
     "metadata": {},
     "output_type": "execute_result"
    }
   ],
   "source": [
    "torch.sum(preds == labels)"
   ]
  },
  {
   "cell_type": "code",
   "execution_count": 24,
   "metadata": {},
   "outputs": [],
   "source": [
    "def accuracy(outputs, labels):\n",
    "    _, preds = torch.max(outputs, dim=1)\n",
    "    return torch.tensor(torch.sum(preds == labels).item() / len(preds))"
   ]
  },
  {
   "cell_type": "code",
   "execution_count": 25,
   "metadata": {},
   "outputs": [
    {
     "data": {
      "text/plain": [
       "tensor(0.1000)"
      ]
     },
     "execution_count": 25,
     "metadata": {},
     "output_type": "execute_result"
    }
   ],
   "source": [
    "accuracy(outputs, labels)"
   ]
  },
  {
   "cell_type": "code",
   "execution_count": 26,
   "metadata": {},
   "outputs": [],
   "source": [
    "loss_fn = F.cross_entropy"
   ]
  },
  {
   "cell_type": "code",
   "execution_count": 27,
   "metadata": {},
   "outputs": [
    {
     "name": "stdout",
     "output_type": "stream",
     "text": [
      "tensor(2.3208, grad_fn=<NllLossBackward>)\n"
     ]
    }
   ],
   "source": [
    "# Loss for current batch of data\n",
    "loss = loss_fn(outputs, labels)\n",
    "print(loss)"
   ]
  },
  {
   "cell_type": "code",
   "execution_count": 28,
   "metadata": {},
   "outputs": [],
   "source": [
    "learning_rate = 0.001\n",
    "optimizer = torch.optim.SGD(model.parameters(), lr=learning_rate)"
   ]
  },
  {
   "cell_type": "code",
   "execution_count": 29,
   "metadata": {},
   "outputs": [],
   "source": [
    "def loss_batch(model, loss_func, xb, yb, opt=None, metric=None):\n",
    "    preds = model(xb)\n",
    "    loss = loss_fn(preds, yb)\n",
    "    \n",
    "    if opt is not None:\n",
    "        # Computer Gradients\n",
    "        loss.backward() \n",
    "        # Update Parameters\n",
    "        opt.step()\n",
    "        # Reset gradients\n",
    "        opt.zero_grad()\n",
    "    \n",
    "    metric_result = None\n",
    "    if metric is not None:\n",
    "        metric_result = metric(preds, yb)\n",
    "    \n",
    "    return loss.item(), len(xb), metric_result"
   ]
  },
  {
   "cell_type": "code",
   "execution_count": 30,
   "metadata": {},
   "outputs": [],
   "source": [
    "def evaluate(model, loss_fn, valid_dl, metric=None):\n",
    "    with torch.no_grad():\n",
    "        # pass each batch through the model\n",
    "        results = [loss_batch(model, loss_fn, xb, yb, metric=metric)\n",
    "                      for xb, yb in valid_dl]\n",
    "        # Separate losses, counts, and metrics\n",
    "        losses, nums, metrics = zip(*results)\n",
    "        # Total size of the dataset\n",
    "        total = np.sum(nums)\n",
    "        # Avg. loss across batches\n",
    "        avg_loss = np.sum(np.multiply(losses, nums)) / total\n",
    "        avg_metric = None\n",
    "        if metric is not None:\n",
    "            avg_metric = np.sum(np.multiply(metrics, nums)) / total\n",
    "    return avg_loss, total, avg_metric         "
   ]
  },
  {
   "cell_type": "code",
   "execution_count": 31,
   "metadata": {},
   "outputs": [
    {
     "name": "stdout",
     "output_type": "stream",
     "text": [
      "Loss: 2.3164, Accuracy: 0.0767\n"
     ]
    }
   ],
   "source": [
    "val_loss, total, val_acc = evaluate(model, loss_fn, val_loader, metric=accuracy)\n",
    "print(f\"Loss: {val_loss:.4f}, Accuracy: {val_acc:.4f}\")"
   ]
  },
  {
   "cell_type": "code",
   "execution_count": 32,
   "metadata": {},
   "outputs": [],
   "source": [
    "def fit(epochs, model, loss_fn, opt, train_dl, valid_dl, metric=None):\n",
    "    for epoch in range(epochs):\n",
    "        # Training\n",
    "        for xb, yb in train_dl:\n",
    "            loss, _, _ = loss_batch(model, loss_fn, xb, yb, opt=opt)\n",
    "        \n",
    "        # Evaluation\n",
    "        for xb, yb in valid_dl:\n",
    "            result = evaluate(model, loss_fn, valid_dl, metric)\n",
    "            val_loss, total, val_metric = result\n",
    "        \n",
    "        if metric is None:\n",
    "            print(f\"Epoch {epoch+1}/{epochs}, Loss: {val_loss:.4f}\")\n",
    "        else:\n",
    "            print(f\"Epoch {epoch+1}/{epochs}, Loss: {val_loss:.4f} {metric.__name__}: {val_metric:.4f}\")"
   ]
  },
  {
   "cell_type": "code",
   "execution_count": 33,
   "metadata": {},
   "outputs": [],
   "source": [
    "model = MnistModel()\n",
    "optimizer = torch.optim.SGD(model.parameters(), lr=learning_rate)"
   ]
  },
  {
   "cell_type": "code",
   "execution_count": 34,
   "metadata": {},
   "outputs": [
    {
     "name": "stdout",
     "output_type": "stream",
     "text": [
      "Epoch 1/5, Loss: 1.9062 accuracy: 0.6458\n",
      "Epoch 2/5, Loss: 1.5992 accuracy: 0.7465\n",
      "Epoch 3/5, Loss: 1.3833 accuracy: 0.7798\n",
      "Epoch 4/5, Loss: 1.2282 accuracy: 0.7960\n",
      "Epoch 5/5, Loss: 1.1133 accuracy: 0.8082\n"
     ]
    }
   ],
   "source": [
    "fit(5, model, F.cross_entropy, opt=optimizer, train_dl=train_loader, valid_dl=val_loader, metric=accuracy)"
   ]
  },
  {
   "cell_type": "code",
   "execution_count": 35,
   "metadata": {},
   "outputs": [
    {
     "name": "stdout",
     "output_type": "stream",
     "text": [
      "Epoch 1/5, Loss: 1.0257 accuracy: 0.8169\n",
      "Epoch 2/5, Loss: 0.9569 accuracy: 0.8222\n",
      "Epoch 3/5, Loss: 0.9016 accuracy: 0.8270\n",
      "Epoch 4/5, Loss: 0.8561 accuracy: 0.8311\n",
      "Epoch 5/5, Loss: 0.8180 accuracy: 0.8355\n"
     ]
    }
   ],
   "source": [
    "fit(5, model, F.cross_entropy, opt=optimizer, train_dl=train_loader, valid_dl=val_loader, metric=accuracy)"
   ]
  },
  {
   "cell_type": "code",
   "execution_count": 36,
   "metadata": {},
   "outputs": [],
   "source": [
    "test_dataset = MNIST(root='data/',\n",
    "                     train=False,\n",
    "                     transform=transforms.ToTensor())"
   ]
  },
  {
   "cell_type": "code",
   "execution_count": 37,
   "metadata": {},
   "outputs": [
    {
     "data": {
      "image/png": "[encoded data removed]",
      "text/plain": [
       "<Figure size 432x288 with 1 Axes>"
      ]
     },
     "metadata": {
      "needs_background": "light"
     },
     "output_type": "display_data"
    },
    {
     "name": "stdout",
     "output_type": "stream",
     "text": [
      "7\n"
     ]
    }
   ],
   "source": [
    "img, label = test_dataset[0]\n",
    "plt.imshow(img[0], cmap='gray')\n",
    "plt.show()\n",
    "print(label)"
   ]
  },
  {
   "cell_type": "code",
   "execution_count": 38,
   "metadata": {},
   "outputs": [
    {
     "data": {
      "text/plain": [
       "torch.Size([1, 1, 28, 28])"
      ]
     },
     "execution_count": 38,
     "metadata": {},
     "output_type": "execute_result"
    }
   ],
   "source": [
    "img.unsqueeze(0).shape"
   ]
  },
  {
   "cell_type": "code",
   "execution_count": 39,
   "metadata": {},
   "outputs": [],
   "source": [
    "def predict_image(img, model):\n",
    "    xb = img.unsqueeze(0)\n",
    "    yb = model(xb)\n",
    "    _, preds = torch.max(yb, dim=1)\n",
    "    return preds[0].item()"
   ]
  },
  {
   "cell_type": "code",
   "execution_count": 40,
   "metadata": {},
   "outputs": [
    {
     "name": "stdout",
     "output_type": "stream",
     "text": [
      "Label: 7, Predicted: 7\n"
     ]
    },
    {
     "data": {
      "image/png": "[encoded data removed]",
      "text/plain": [
       "<Figure size 432x288 with 1 Axes>"
      ]
     },
     "metadata": {
      "needs_background": "light"
     },
     "output_type": "display_data"
    }
   ],
   "source": [
    "img, label = test_dataset[0]\n",
    "plt.imshow(img[0], cmap='gray')\n",
    "print(f'Label: {label}, Predicted: {predict_image(img, model)}')"
   ]
  },
  {
   "cell_type": "code",
   "execution_count": 41,
   "metadata": {},
   "outputs": [
    {
     "name": "stdout",
     "output_type": "stream",
     "text": [
      "Label: 2, Predicted: 2\n"
     ]
    },
    {
     "data": {
      "image/png": "[encoded data removed]",
      "text/plain": [
       "<Figure size 432x288 with 1 Axes>"
      ]
     },
     "metadata": {
      "needs_background": "light"
     },
     "output_type": "display_data"
    }
   ],
   "source": [
    "img, label = test_dataset[1]\n",
    "plt.imshow(img[0], cmap='gray')\n",
    "print(f'Label: {label}, Predicted: {predict_image(img, model)}')"
   ]
  },
  {
   "cell_type": "code",
   "execution_count": 42,
   "metadata": {},
   "outputs": [
    {
     "name": "stdout",
     "output_type": "stream",
     "text": [
      "Label: 1, Predicted: 1\n"
     ]
    },
    {
     "data": {
      "image/png": "[encoded data removed]",
      "text/plain": [
       "<Figure size 432x288 with 1 Axes>"
      ]
     },
     "metadata": {
      "needs_background": "light"
     },
     "output_type": "display_data"
    }
   ],
   "source": [
    "img, label = test_dataset[5]\n",
    "plt.imshow(img[0], cmap='gray')\n",
    "print(f'Label: {label}, Predicted: {predict_image(img, model)}')"
   ]
  },
  {
   "cell_type": "code",
   "execution_count": 43,
   "metadata": {},
   "outputs": [
    {
     "name": "stdout",
     "output_type": "stream",
     "text": [
      "Label: 2, Predicted: 8\n"
     ]
    },
    {
     "data": {
      "image/png": "[encoded data removed]",
      "text/plain": [
       "<Figure size 432x288 with 1 Axes>"
      ]
     },
     "metadata": {
      "needs_background": "light"
     },
     "output_type": "display_data"
    }
   ],
   "source": [
    "img, label = test_dataset[1839]\n",
    "plt.imshow(img[0], cmap='gray')\n",
    "print(f'Label: {label}, Predicted: {predict_image(img, model)}')"
   ]
  },
  {
   "cell_type": "code",
   "execution_count": 44,
   "metadata": {},
   "outputs": [
    {
     "name": "stdout",
     "output_type": "stream",
     "text": [
      "Loss: 0.7915, Accuracy: 0.8483\n"
     ]
    }
   ],
   "source": [
    "test_loader = DataLoader(test_dataset, batch_size=200)\n",
    "val_loss, total, val_acc = evaluate(model, loss_fn, test_loader, metric=accuracy)\n",
    "print(f\"Loss: {val_loss:.4f}, Accuracy: {val_acc:.4f}\")"
   ]
  },
  {
   "cell_type": "code",
   "execution_count": 45,
   "metadata": {},
   "outputs": [],
   "source": [
    "torch.save(model.state_dict(), 'mnist-logistic.pth')"
   ]
  },
  {
   "cell_type": "code",
   "execution_count": 46,
   "metadata": {},
   "outputs": [
    {
     "data": {
      "text/plain": [
       "OrderedDict([('linear.weight',\n",
       "              tensor([[-3.4975e-03,  5.6631e-03,  1.6033e-02,  ..., -1.4569e-02,\n",
       "                       -1.6608e-02, -8.6430e-03],\n",
       "                      [ 1.7014e-02,  2.2049e-02,  1.5251e-02,  ...,  2.0692e-02,\n",
       "                        6.2854e-03,  2.1227e-02],\n",
       "                      [-1.2499e-02, -4.4005e-03, -9.6199e-04,  ...,  2.9670e-03,\n",
       "                       -3.3614e-02,  2.0172e-02],\n",
       "                      ...,\n",
       "                      [-3.2374e-03,  1.4135e-02, -3.5198e-02,  ..., -2.0383e-02,\n",
       "                        2.5102e-02, -1.8934e-02],\n",
       "                      [ 7.2593e-03, -1.5516e-02,  3.2304e-02,  ..., -7.4238e-05,\n",
       "                       -1.3446e-03,  9.8358e-03],\n",
       "                      [-3.2154e-02,  1.7934e-02,  1.9729e-02,  ..., -2.7322e-02,\n",
       "                       -2.2114e-02, -2.0574e-02]])),\n",
       "             ('linear.bias',\n",
       "              tensor([-0.0462,  0.0842, -0.0239, -0.0034,  0.0014,  0.0046, -0.0281,  0.0044,\n",
       "                      -0.0545, -0.0139]))])"
      ]
     },
     "execution_count": 46,
     "metadata": {},
     "output_type": "execute_result"
    }
   ],
   "source": [
    "model.state_dict()"
   ]
  },
  {
   "cell_type": "code",
   "execution_count": 47,
   "metadata": {},
   "outputs": [
    {
     "data": {
      "text/plain": [
       "OrderedDict([('linear.weight',\n",
       "              tensor([[-3.4975e-03,  5.6631e-03,  1.6033e-02,  ..., -1.4569e-02,\n",
       "                       -1.6608e-02, -8.6430e-03],\n",
       "                      [ 1.7014e-02,  2.2049e-02,  1.5251e-02,  ...,  2.0692e-02,\n",
       "                        6.2854e-03,  2.1227e-02],\n",
       "                      [-1.2499e-02, -4.4005e-03, -9.6199e-04,  ...,  2.9670e-03,\n",
       "                       -3.3614e-02,  2.0172e-02],\n",
       "                      ...,\n",
       "                      [-3.2374e-03,  1.4135e-02, -3.5198e-02,  ..., -2.0383e-02,\n",
       "                        2.5102e-02, -1.8934e-02],\n",
       "                      [ 7.2593e-03, -1.5516e-02,  3.2304e-02,  ..., -7.4238e-05,\n",
       "                       -1.3446e-03,  9.8358e-03],\n",
       "                      [-3.2154e-02,  1.7934e-02,  1.9729e-02,  ..., -2.7322e-02,\n",
       "                       -2.2114e-02, -2.0574e-02]])),\n",
       "             ('linear.bias',\n",
       "              tensor([-0.0462,  0.0842, -0.0239, -0.0034,  0.0014,  0.0046, -0.0281,  0.0044,\n",
       "                      -0.0545, -0.0139]))])"
      ]
     },
     "execution_count": 47,
     "metadata": {},
     "output_type": "execute_result"
    }
   ],
   "source": [
    "model2 = MnistModel()\n",
    "model2.load_state_dict(torch.load('mnist-logistic.pth'))\n",
    "model2.state_dict()"
   ]
  },
  {
   "cell_type": "code",
   "execution_count": 48,
   "metadata": {},
   "outputs": [
    {
     "name": "stdout",
     "output_type": "stream",
     "text": [
      "Loss: 0.7915, Accuracy: 0.8483\n"
     ]
    }
   ],
   "source": [
    "test_loader = DataLoader(test_dataset, batch_size=200)\n",
    "val_loss, total, val_acc = evaluate(model2, loss_fn, test_loader, metric=accuracy)\n",
    "print(f\"Loss: {val_loss:.4f}, Accuracy: {val_acc:.4f}\")"
   ]
  }
 ],
 "metadata": {
  "kernelspec": {
   "display_name": "Python 3",
   "language": "python",
   "name": "python3"
  },
  "language_info": {
   "codemirror_mode": {
    "name": "ipython",
    "version": 3
   },
   "file_extension": ".py",
   "mimetype": "text/x-python",
   "name": "python",
   "nbconvert_exporter": "python",
   "pygments_lexer": "ipython3",
   "version": "3.8.3"
  }
 },
 "nbformat": 4,
 "nbformat_minor": 4
}
